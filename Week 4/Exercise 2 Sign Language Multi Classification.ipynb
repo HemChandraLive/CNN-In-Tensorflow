{
 "cells": [
  {
   "cell_type": "markdown",
   "metadata": {},
   "source": [
    "Dataset :  https://www.kaggle.com/datamunge/sign-language-mnist/home"
   ]
  },
  {
   "cell_type": "code",
   "execution_count": 1,
   "metadata": {},
   "outputs": [],
   "source": [
    "import os \n",
    "import pandas as pd\n",
    "import numpy as np\n",
    "import matplotlib.pyplot as plt\n",
    "import tensorflow as tf\n",
    "from tensorflow import keras\n",
    "import zipfile\n",
    "from tensorflow.keras.preprocessing.image import ImageDataGenerator"
   ]
  },
  {
   "cell_type": "code",
   "execution_count": 2,
   "metadata": {},
   "outputs": [],
   "source": [
    "local_zip_file=\"sign-language-mnist.zip\"\n",
    "\n",
    "zipfile=zipfile.ZipFile(local_zip_file,'r')\n",
    "zipfile.extractall(\"\")\n",
    "zipfile.close()"
   ]
  },
  {
   "cell_type": "code",
   "execution_count": 3,
   "metadata": {},
   "outputs": [],
   "source": [
    "import csv\n",
    "def get_data(filename):\n",
    "    with open(filename) as training_file:\n",
    "        csv_reader = csv.reader(training_file, delimiter=',')\n",
    "        first_line = True\n",
    "        temp_images = []\n",
    "        temp_labels = []\n",
    "        for row in csv_reader:\n",
    "            if first_line:\n",
    "                # print(\"Ignoring first line\")\n",
    "                first_line = False\n",
    "            else:\n",
    "                temp_labels.append(row[0])\n",
    "                image_data = row[1:785]\n",
    "                image_data_as_array = np.array_split(image_data, 28)\n",
    "                temp_images.append(image_data_as_array)\n",
    "        images = np.array(temp_images).astype('float')\n",
    "        labels = np.array(temp_labels).astype('float')\n",
    "    return images, labels"
   ]
  },
  {
   "cell_type": "code",
   "execution_count": 4,
   "metadata": {},
   "outputs": [
    {
     "name": "stdout",
     "output_type": "stream",
     "text": [
      "(27455, 28, 28)\n",
      "(27455,)\n",
      "(7172, 28, 28)\n",
      "(7172,)\n"
     ]
    }
   ],
   "source": [
    "train_data=\"sign_mnist_train.csv\"\n",
    "test_data=\"sign_mnist_test.csv\"\n",
    "\n",
    "\n",
    "training_images, training_labels = get_data(train_data)\n",
    "testing_images, testing_labels = get_data(test_data)\n",
    "\n",
    "print(training_images.shape)\n",
    "print(training_labels.shape)\n",
    "print(testing_images.shape)\n",
    "print(testing_labels.shape)"
   ]
  },
  {
   "cell_type": "code",
   "execution_count": 58,
   "metadata": {},
   "outputs": [
    {
     "name": "stdout",
     "output_type": "stream",
     "text": [
      "Label  6.0\n"
     ]
    },
    {
     "data": {
      "image/png": "[encoded data removed]",
      "text/plain": [
       "<Figure size 432x288 with 1 Axes>"
      ]
     },
     "metadata": {
      "needs_background": "light"
     },
     "output_type": "display_data"
    }
   ],
   "source": [
    "image_index=1\n",
    "image=np.array(training_images[image_index,:])\n",
    "image=image.reshape(28,28)\n",
    "plt.imshow(image)\n",
    "print(\"Label \",training_labels[image_index])"
   ]
  },
  {
   "cell_type": "code",
   "execution_count": 6,
   "metadata": {},
   "outputs": [],
   "source": [
    "training_images = np.expand_dims(training_images, axis=3)\n",
    "testing_images = np.expand_dims(testing_images, axis=3)"
   ]
  },
  {
   "cell_type": "code",
   "execution_count": 7,
   "metadata": {},
   "outputs": [
    {
     "name": "stdout",
     "output_type": "stream",
     "text": [
      "Training Images (27455, 28, 28, 1)\n",
      "Testing Images (7172, 28, 28, 1)\n"
     ]
    }
   ],
   "source": [
    "print(\"Training Images\",training_images.shape)\n",
    "print(\"Testing Images\",testing_images.shape)"
   ]
  },
  {
   "cell_type": "code",
   "execution_count": 43,
   "metadata": {},
   "outputs": [],
   "source": [
    "train_datagen=ImageDataGenerator(rescale=1./255,\n",
    "                                width_shift_range=0.2,\n",
    "                                zoom_range=0.2,\n",
    "                                height_shift_range=0.2,\n",
    "                                horizontal_flip=True,\n",
    "                                rotation_range=40,\n",
    "                                fill_mode='nearest')\n",
    "\n",
    "\n",
    "validation_datagen=ImageDataGenerator(rescale=1./255)"
   ]
  },
  {
   "cell_type": "code",
   "execution_count": 44,
   "metadata": {},
   "outputs": [],
   "source": [
    "model=tf.keras.models.Sequential([tf.keras.layers.Conv2D(64,(2,2),input_shape=(28,28,1),activation='relu'),\n",
    "                                 tf.keras.layers.MaxPooling2D(2,2),\n",
    "                                  \n",
    "                                 tf.keras.layers.Conv2D(128,(2,2),activation='relu'),\n",
    "                                 tf.keras.layers.MaxPooling2D(2,2),\n",
    "                                  \n",
    "                                 tf.keras.layers.Conv2D(256,(2,2),activation='relu'),\n",
    "                                 tf.keras.layers.MaxPooling2D(2,2),\n",
    "                                  \n",
    "                                 tf.keras.layers.Flatten(),\n",
    "                                 tf.keras.layers.Dense(512,activation='relu'),\n",
    "                                 tf.keras.layers.Dense(26,activation='softmax')\n",
    "                                 ])"
   ]
  },
  {
   "cell_type": "code",
   "execution_count": 54,
   "metadata": {},
   "outputs": [],
   "source": [
    "from tensorflow.keras.optimizers import RMSprop\n",
    "model.compile(loss='sparse_categorical_crossentropy',optimizer = tf.train.AdamOptimizer(),metrics=['accuracy'])"
   ]
  },
  {
   "cell_type": "code",
   "execution_count": 55,
   "metadata": {},
   "outputs": [
    {
     "name": "stdout",
     "output_type": "stream",
     "text": [
      "Epoch 1/15\n",
      "858/857 [==============================] - 45s 52ms/step - loss: 2.6540 - acc: 0.1817 - val_loss: 1.6059 - val_acc: 0.4579\n",
      "Epoch 2/15\n",
      "858/857 [==============================] - 45s 52ms/step - loss: 1.7318 - acc: 0.4346 - val_loss: 1.1348 - val_acc: 0.5917\n",
      "Epoch 3/15\n",
      "858/857 [==============================] - 39s 46ms/step - loss: 1.2892 - acc: 0.5741 - val_loss: 0.7813 - val_acc: 0.7296\n",
      "Epoch 4/15\n",
      "858/857 [==============================] - 39s 46ms/step - loss: 1.0268 - acc: 0.6557 - val_loss: 0.6024 - val_acc: 0.7800\n",
      "Epoch 5/15\n",
      "858/857 [==============================] - 41s 48ms/step - loss: 0.8522 - acc: 0.7098 - val_loss: 0.5657 - val_acc: 0.7875\n",
      "Epoch 6/15\n",
      "858/857 [==============================] - 41s 48ms/step - loss: 0.7250 - acc: 0.7543 - val_loss: 0.4946 - val_acc: 0.8210\n",
      "Epoch 7/15\n",
      "858/857 [==============================] - 41s 47ms/step - loss: 0.6336 - acc: 0.7844 - val_loss: 0.3644 - val_acc: 0.8576\n",
      "Epoch 8/15\n",
      "858/857 [==============================] - 42s 49ms/step - loss: 0.5642 - acc: 0.8053 - val_loss: 0.2927 - val_acc: 0.8918\n",
      "Epoch 9/15\n",
      "858/857 [==============================] - 40s 47ms/step - loss: 0.5049 - acc: 0.8283 - val_loss: 0.3274 - val_acc: 0.8901\n",
      "Epoch 10/15\n",
      "858/857 [==============================] - 40s 47ms/step - loss: 0.4575 - acc: 0.8429 - val_loss: 0.2049 - val_acc: 0.9237\n",
      "Epoch 11/15\n",
      "858/857 [==============================] - 41s 48ms/step - loss: 0.4189 - acc: 0.8593 - val_loss: 0.3091 - val_acc: 0.8879\n",
      "Epoch 12/15\n",
      "858/857 [==============================] - 44s 51ms/step - loss: 0.3865 - acc: 0.8656 - val_loss: 0.2674 - val_acc: 0.9031\n",
      "Epoch 13/15\n",
      "858/857 [==============================] - 46s 53ms/step - loss: 0.3589 - acc: 0.8775 - val_loss: 0.1366 - val_acc: 0.9505\n",
      "Epoch 14/15\n",
      "858/857 [==============================] - 42s 49ms/step - loss: 0.3279 - acc: 0.8903 - val_loss: 0.1845 - val_acc: 0.9328\n",
      "Epoch 15/15\n",
      "858/857 [==============================] - 42s 49ms/step - loss: 0.3223 - acc: 0.8903 - val_loss: 0.0830 - val_acc: 0.9721\n"
     ]
    }
   ],
   "source": [
    "history=model.fit_generator(train_datagen.flow(training_images, training_labels, batch_size=32),\n",
    "                              steps_per_epoch=len(training_images) / 32,\n",
    "                              epochs=15,\n",
    "                              validation_data=validation_datagen.flow(testing_images, testing_labels, batch_size=32),\n",
    "                              validation_steps=len(testing_images) / 32)\n"
   ]
  },
  {
   "cell_type": "code",
   "execution_count": 56,
   "metadata": {},
   "outputs": [
    {
     "name": "stdout",
     "output_type": "stream",
     "text": [
      "7172/7172 [==============================] - 3s 384us/sample - loss: 73.5991 - acc: 0.8041\n"
     ]
    },
    {
     "data": {
      "text/plain": [
       "[73.59913136556172, 0.80409926]"
      ]
     },
     "execution_count": 56,
     "metadata": {},
     "output_type": "execute_result"
    }
   ],
   "source": [
    "model.evaluate(testing_images,testing_labels)"
   ]
  },
  {
   "cell_type": "code",
   "execution_count": 57,
   "metadata": {},
   "outputs": [
    {
     "data": {
      "image/png": "[encoded data removed]",
      "text/plain": [
       "<Figure size 432x288 with 1 Axes>"
      ]
     },
     "metadata": {
      "needs_background": "light"
     },
     "output_type": "display_data"
    },
    {
     "data": {
      "image/png": "[encoded data removed]",
      "text/plain": [
       "<Figure size 432x288 with 1 Axes>"
      ]
     },
     "metadata": {
      "needs_background": "light"
     },
     "output_type": "display_data"
    }
   ],
   "source": [
    "import matplotlib.pyplot as plt\n",
    "acc = history.history['acc']\n",
    "val_acc = history.history['val_acc']\n",
    "loss = history.history['loss']\n",
    "val_loss = history.history['val_loss']\n",
    "\n",
    "epochs = range(len(acc))\n",
    "\n",
    "plt.plot(epochs, acc, 'r', label='Training accuracy')\n",
    "plt.plot(epochs, val_acc, 'b', label='Validation accuracy')\n",
    "plt.title('Training and validation accuracy')\n",
    "plt.legend()\n",
    "plt.figure()\n",
    "\n",
    "plt.plot(epochs, loss, 'r', label='Training Loss')\n",
    "plt.plot(epochs, val_loss, 'b', label='Validation Loss')\n",
    "plt.title('Training and validation loss')\n",
    "plt.legend()\n",
    "\n",
    "plt.show()"
   ]
  },
  {
   "cell_type": "code",
   "execution_count": null,
   "metadata": {},
   "outputs": [],
   "source": []
  }
 ],
 "metadata": {
  "kernelspec": {
   "display_name": "Python 3",
   "language": "python",
   "name": "python3"
  },
  "language_info": {
   "codemirror_mode": {
    "name": "ipython",
    "version": 3
   },
   "file_extension": ".py",
   "mimetype": "text/x-python",
   "name": "python",
   "nbconvert_exporter": "python",
   "pygments_lexer": "ipython3",
   "version": "3.7.3"
  }
 },
 "nbformat": 4,
 "nbformat_minor": 2
}
