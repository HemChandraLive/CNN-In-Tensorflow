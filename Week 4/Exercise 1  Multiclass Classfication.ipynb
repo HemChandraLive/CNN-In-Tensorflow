{
 "cells": [
  {
   "cell_type": "code",
   "execution_count": 2,
   "metadata": {},
   "outputs": [],
   "source": [
    "#Importing needed library\n",
    "import numpy as np\n",
    "import matplotlib.pyplot as plt\n",
    "import tensorflow as tf\n",
    "from tensorflow import keras\n",
    "import os\n",
    "import zipfile\n",
    "%matplotlib inline"
   ]
  },
  {
   "cell_type": "raw",
   "metadata": {},
   "source": [
    "# Dataset location\n",
    "#https://storage.googleapis.com/laurencemoroney-blog.appspot.com/rps.zip  \n",
    "#https://storage.googleapis.com/laurencemoroney-blog.appspot.com/rps-test-set.zip \n",
    "#https://storage.googleapis.com/laurencemoroney-blog.appspot.com/rps-validation-set.zip \n",
    "'''\n",
    "Arrange directory in following fashion\n",
    "\n",
    "dataset\n",
    "-------train-valid\n",
    "------------------train\n",
    "-----------------------paper\n",
    "-----------------------scissors\n",
    "-----------------------rock\n",
    "------------------validation\n",
    "-----------------------paper\n",
    "-----------------------scissors\n",
    "-----------------------rock\n",
    "-------test\n",
    "'''"
   ]
  },
  {
   "cell_type": "code",
   "execution_count": 16,
   "metadata": {},
   "outputs": [],
   "source": [
    "validation_dir='dataset/train-valid/validation'\n",
    "validation_paper=os.listdir(validation_dir+\"/paper\")\n",
    "validation_rock=os.listdir(validation_dir+\"/rock\")\n",
    "validation_scissors=os.listdir(validation_dir+\"/scissors\")\n",
    "\n",
    "\n",
    "train_dir='dataset/train-valid/train'\n",
    "train_paper=os.listdir(train_dir+\"/paper\")\n",
    "train_rock=os.listdir(train_dir+\"/rock\")\n",
    "train_scissors=os.listdir(train_dir+\"/scissors\")"
   ]
  },
  {
   "cell_type": "markdown",
   "metadata": {},
   "source": [
    "# Data set details"
   ]
  },
  {
   "cell_type": "code",
   "execution_count": 20,
   "metadata": {},
   "outputs": [
    {
     "name": "stdout",
     "output_type": "stream",
     "text": [
      "Training data \n",
      "Paper training items : 840\n",
      "Rock training items : 840\n",
      "Scissors training items : 840 \n",
      "\n",
      "\n",
      "Validation data \n",
      "Paper validation items : 124\n",
      "Rock validation items : 124\n",
      "Scissors validation items : 124\n"
     ]
    }
   ],
   "source": [
    "print(\"Training data \")\n",
    "\n",
    "print(\"Paper training items :\",len(train_paper))\n",
    "print(\"Rock training items :\",len(train_rock))\n",
    "print(\"Scissors training items :\",len(train_scissors),\"\\n\\n\")\n",
    "\n",
    "print(\"Validation data \")\n",
    "\n",
    "print(\"Paper validation items :\",len(validation_paper))\n",
    "print(\"Rock validation items :\",len(validation_rock))\n",
    "print(\"Scissors validation items :\",len(validation_scissors))"
   ]
  },
  {
   "cell_type": "code",
   "execution_count": 31,
   "metadata": {},
   "outputs": [],
   "source": [
    "from tensorflow.keras.preprocessing.image import ImageDataGenerator"
   ]
  },
  {
   "cell_type": "code",
   "execution_count": 35,
   "metadata": {},
   "outputs": [],
   "source": [
    "training_datagen=ImageDataGenerator(\n",
    "                    rescale=1./255,\n",
    "                    rotation_range=40,\n",
    "                    )\n",
    "\n",
    "validation_datagen=ImageDataGenerator(\n",
    "                    rescale=1./255)"
   ]
  },
  {
   "cell_type": "code",
   "execution_count": 36,
   "metadata": {},
   "outputs": [],
   "source": [
    "validation_dir='dataset/train-valid/validation'\n",
    "train_dir='dataset/train-valid/train'"
   ]
  },
  {
   "cell_type": "code",
   "execution_count": 63,
   "metadata": {},
   "outputs": [
    {
     "name": "stdout",
     "output_type": "stream",
     "text": [
      "Found 2520 images belonging to 3 classes.\n",
      "Found 372 images belonging to 3 classes.\n"
     ]
    }
   ],
   "source": [
    "train_generator=training_datagen.flow_from_directory(\n",
    "                    train_dir,\n",
    "                    target_size=(150,150),\n",
    "                    class_mode='categorical')\n",
    "\n",
    "\n",
    "validation_generator=validation_datagen.flow_from_directory(\n",
    "                    validation_dir,\n",
    "                    target_size=(150,150),\n",
    "                    class_mode='categorical')"
   ]
  },
  {
   "cell_type": "code",
   "execution_count": 64,
   "metadata": {},
   "outputs": [],
   "source": [
    "model=tf.keras.models.Sequential([tf.keras.layers.Conv2D(16,(2,2),activation='relu',input_shape=(150,150,3)),\n",
    "                                 tf.keras.layers.MaxPooling2D(2,2),\n",
    "                                  \n",
    "                                tf.keras.layers.Conv2D(32,(2,2),activation='relu',input_shape=(150,150,3)),\n",
    "                                 tf.keras.layers.MaxPooling2D(2,2),\n",
    "                                  \n",
    "                                  \n",
    "                                 tf.keras.layers.Conv2D(64,(2,2),activation='relu',input_shape=(150,150,3)),\n",
    "                                 tf.keras.layers.MaxPooling2D(2,2),\n",
    "                                  \n",
    "                                  \n",
    "                                 tf.keras.layers.Conv2D(128,(2,2),activation='relu',input_shape=(150,150,3)),\n",
    "                                 tf.keras.layers.MaxPooling2D(2,2),\n",
    "                                  \n",
    "                                  \n",
    "                                  tf.keras.layers.Flatten(),\n",
    "                                  tf.keras.layers(Dropout(0.5)),\n",
    "                                  tf.keras.layers.Dense(512,activation='relu'),\n",
    "                                  tf.keras.layers.Dense(3,activation='softmax')\n",
    "                                 ])\n",
    "model.summary()"
   ]
  },
  {
   "cell_type": "code",
   "execution_count": 65,
   "metadata": {},
   "outputs": [],
   "source": [
    "from  tensorflow.keras.optimizers import RMSprop\n",
    "model.compile(loss='categorical_crossentropy',optimizer=RMSprop(lr=0.001),metrics=['accuracy'])"
   ]
  },
  {
   "cell_type": "code",
   "execution_count": 66,
   "metadata": {},
   "outputs": [
    {
     "name": "stdout",
     "output_type": "stream",
     "text": [
      "Epoch 1/10\n",
      "79/79 - 64s - loss: 0.7212 - accuracy: 0.6726 - val_loss: 0.4260 - val_accuracy: 0.8414\n",
      "Epoch 2/10\n",
      "79/79 - 62s - loss: 0.2091 - accuracy: 0.9290 - val_loss: 0.9466 - val_accuracy: 0.6747\n",
      "Epoch 3/10\n",
      "79/79 - 65s - loss: 0.1055 - accuracy: 0.9671 - val_loss: 0.5674 - val_accuracy: 0.7957\n",
      "Epoch 4/10\n",
      "79/79 - 78s - loss: 0.0953 - accuracy: 0.9758 - val_loss: 0.2690 - val_accuracy: 0.8817\n",
      "Epoch 5/10\n",
      "79/79 - 71s - loss: 0.1324 - accuracy: 0.9790 - val_loss: 0.2008 - val_accuracy: 0.9059\n",
      "Epoch 6/10\n",
      "79/79 - 68s - loss: 0.0260 - accuracy: 0.9913 - val_loss: 0.7031 - val_accuracy: 0.7957\n",
      "Epoch 7/10\n",
      "79/79 - 68s - loss: 0.0185 - accuracy: 0.9937 - val_loss: 0.3410 - val_accuracy: 0.8952\n",
      "Epoch 8/10\n",
      "79/79 - 65s - loss: 0.0546 - accuracy: 0.9877 - val_loss: 0.3602 - val_accuracy: 0.8898\n",
      "Epoch 9/10\n",
      "79/79 - 68s - loss: 0.0115 - accuracy: 0.9960 - val_loss: 0.2265 - val_accuracy: 0.9194\n",
      "Epoch 10/10\n",
      "79/79 - 62s - loss: 0.0236 - accuracy: 0.9948 - val_loss: 0.2472 - val_accuracy: 0.9140\n"
     ]
    }
   ],
   "source": [
    "history=model.fit_generator(train_generator,validation_data=validation_generator,epochs=10,verbose=2)\n",
    "model.save('model.h5')"
   ]
  },
  {
   "cell_type": "markdown",
   "metadata": {},
   "source": [
    "# Accuracy\n"
   ]
  },
  {
   "cell_type": "code",
   "execution_count": 69,
   "metadata": {},
   "outputs": [
    {
     "data": {
      "text/plain": [
       "<Figure size 432x288 with 0 Axes>"
      ]
     },
     "execution_count": 69,
     "metadata": {},
     "output_type": "execute_result"
    },
    {
     "data": {
      "image/png": "[encoded data removed]",
      "text/plain": [
       "<Figure size 432x288 with 1 Axes>"
      ]
     },
     "metadata": {
      "needs_background": "light"
     },
     "output_type": "display_data"
    },
    {
     "data": {
      "image/png": "[encoded data removed]",
      "text/plain": [
       "<Figure size 432x288 with 1 Axes>"
      ]
     },
     "metadata": {
      "needs_background": "light"
     },
     "output_type": "display_data"
    },
    {
     "data": {
      "text/plain": [
       "<Figure size 432x288 with 0 Axes>"
      ]
     },
     "metadata": {},
     "output_type": "display_data"
    }
   ],
   "source": [
    "validation_accuracy=history.history['val_accuracy']\n",
    "train_accuracy=history.history['accuracy']\n",
    "\n",
    "validation_loss=history.history['val_loss']\n",
    "train_loss=history.history['loss']\n",
    "\n",
    "epochs=range(len(train_accuracy))\n",
    "\n",
    "plt.plot(epochs,train_accuracy,'r',label='train-accuracy')\n",
    "plt.plot(epochs,validation_accuracy,'g',label='validation-accuracy')\n",
    "plt.title(\"Train and validation accuracy\")\n",
    "plt.legend()\n",
    "plt.figure()\n",
    "\n",
    "plt.plot(epochs,train_loss,'r',label='train-loss')\n",
    "plt.plot(epochs,validation_loss,'g',label='validation-loss')\n",
    "plt.title(\"Train and validation loss\")\n",
    "plt.legend()\n",
    "plt.figure()"
   ]
  },
  {
   "cell_type": "code",
   "execution_count": null,
   "metadata": {},
   "outputs": [],
   "source": []
  }
 ],
 "metadata": {
  "kernelspec": {
   "display_name": "Python 3",
   "language": "python",
   "name": "python3"
  },
  "language_info": {
   "codemirror_mode": {
    "name": "ipython",
    "version": 3
   },
   "file_extension": ".py",
   "mimetype": "text/x-python",
   "name": "python",
   "nbconvert_exporter": "python",
   "pygments_lexer": "ipython3",
   "version": "3.7.4"
  }
 },
 "nbformat": 4,
 "nbformat_minor": 2
}
