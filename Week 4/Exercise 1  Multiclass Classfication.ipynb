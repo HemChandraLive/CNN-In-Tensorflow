{
 "cells": [
  {
   "cell_type": "markdown",
   "metadata": {},
   "source": [
    "# Multiclass Classification\n",
    "Class labels : Scissors,Rock,Hands\n",
    "In this exercise we will do multiclass classification ."
   ]
  },
  {
   "cell_type": "code",
   "execution_count": 1,
   "metadata": {},
   "outputs": [],
   "source": [
    "#Importing needed library\n",
    "import numpy as np\n",
    "import matplotlib.pyplot as plt\n",
    "import tensorflow as tf\n",
    "from tensorflow import keras\n",
    "import os\n",
    "import zipfile\n",
    "%matplotlib inline"
   ]
  },
  {
   "cell_type": "raw",
   "metadata": {},
   "source": [
    "# Dataset location\n",
    "#https://storage.googleapis.com/laurencemoroney-blog.appspot.com/rps.zip  \n",
    "#https://storage.googleapis.com/laurencemoroney-blog.appspot.com/rps-test-set.zip \n",
    "#https://storage.googleapis.com/laurencemoroney-blog.appspot.com/rps-validation-set.zip \n",
    "'''\n",
    "Arrange directory in following fashion\n",
    "\n",
    "dataset\n",
    "-------train-valid\n",
    "------------------train\n",
    "-----------------------paper\n",
    "-----------------------scissors\n",
    "-----------------------rock\n",
    "------------------validation\n",
    "-----------------------paper\n",
    "-----------------------scissors\n",
    "-----------------------rock\n",
    "-------test"
   ]
  },
  {
   "cell_type": "code",
   "execution_count": 2,
   "metadata": {},
   "outputs": [],
   "source": [
    "validation_dir='dataset/train-valid/validation'\n",
    "validation_paper=os.listdir(validation_dir+\"/paper\")\n",
    "validation_rock=os.listdir(validation_dir+\"/rock\")\n",
    "validation_scissors=os.listdir(validation_dir+\"/scissors\")\n",
    "\n",
    "\n",
    "train_dir='dataset/train-valid/train'\n",
    "train_paper=os.listdir(train_dir+\"/paper\")\n",
    "train_rock=os.listdir(train_dir+\"/rock\")\n",
    "train_scissors=os.listdir(train_dir+\"/scissors\")"
   ]
  },
  {
   "cell_type": "markdown",
   "metadata": {},
   "source": [
    "# Data set details"
   ]
  },
  {
   "cell_type": "code",
   "execution_count": 3,
   "metadata": {},
   "outputs": [
    {
     "name": "stdout",
     "output_type": "stream",
     "text": [
      "Training data \n",
      "Paper training items : 840\n",
      "Rock training items : 840\n",
      "Scissors training items : 840 \n",
      "\n",
      "\n",
      "Validation data \n",
      "Paper validation items : 124\n",
      "Rock validation items : 124\n",
      "Scissors validation items : 124\n"
     ]
    }
   ],
   "source": [
    "print(\"Training data \")\n",
    "\n",
    "print(\"Paper training items :\",len(train_paper))\n",
    "print(\"Rock training items :\",len(train_rock))\n",
    "print(\"Scissors training items :\",len(train_scissors),\"\\n\\n\")\n",
    "\n",
    "print(\"Validation data \")\n",
    "\n",
    "print(\"Paper validation items :\",len(validation_paper))\n",
    "print(\"Rock validation items :\",len(validation_rock))\n",
    "print(\"Scissors validation items :\",len(validation_scissors))"
   ]
  },
  {
   "cell_type": "code",
   "execution_count": 4,
   "metadata": {},
   "outputs": [],
   "source": [
    "from tensorflow.keras.preprocessing.image import ImageDataGenerator"
   ]
  },
  {
   "cell_type": "code",
   "execution_count": 5,
   "metadata": {},
   "outputs": [],
   "source": [
    "training_datagen=ImageDataGenerator(\n",
    "                    rescale=1./255,\n",
    "                    rotation_range=40,\n",
    "                    width_shift_range=0.2,\n",
    "                    height_shift_range=0.2,\n",
    "                    shear_range=0.2,\n",
    "                    zoom_range=0.2,\n",
    "                    horizontal_flip=True,\n",
    "                    fill_mode='nearest')\n",
    "\n",
    "validation_datagen=ImageDataGenerator(\n",
    "                    rescale=1./255)"
   ]
  },
  {
   "cell_type": "code",
   "execution_count": 6,
   "metadata": {},
   "outputs": [],
   "source": [
    "validation_dir='dataset/train-valid/validation'\n",
    "train_dir='dataset/train-valid/train'"
   ]
  },
  {
   "cell_type": "code",
   "execution_count": 7,
   "metadata": {},
   "outputs": [
    {
     "name": "stdout",
     "output_type": "stream",
     "text": [
      "Found 2520 images belonging to 3 classes.\n",
      "Found 372 images belonging to 3 classes.\n"
     ]
    }
   ],
   "source": [
    "train_generator=training_datagen.flow_from_directory(\n",
    "                    train_dir,\n",
    "                    target_size=(150,150),\n",
    "                    class_mode='categorical')\n",
    "\n",
    "\n",
    "\n",
    "validation_generator=validation_datagen.flow_from_directory(\n",
    "                    validation_dir,\n",
    "                    target_size=(150,150),\n",
    "                    class_mode='categorical')"
   ]
  },
  {
   "cell_type": "code",
   "execution_count": 8,
   "metadata": {},
   "outputs": [
    {
     "name": "stdout",
     "output_type": "stream",
     "text": [
      "Model: \"sequential\"\n",
      "_________________________________________________________________\n",
      "Layer (type)                 Output Shape              Param #   \n",
      "=================================================================\n",
      "conv2d (Conv2D)              (None, 149, 149, 16)      208       \n",
      "_________________________________________________________________\n",
      "max_pooling2d (MaxPooling2D) (None, 74, 74, 16)        0         \n",
      "_________________________________________________________________\n",
      "conv2d_1 (Conv2D)            (None, 73, 73, 32)        2080      \n",
      "_________________________________________________________________\n",
      "max_pooling2d_1 (MaxPooling2 (None, 36, 36, 32)        0         \n",
      "_________________________________________________________________\n",
      "conv2d_2 (Conv2D)            (None, 35, 35, 64)        8256      \n",
      "_________________________________________________________________\n",
      "max_pooling2d_2 (MaxPooling2 (None, 17, 17, 64)        0         \n",
      "_________________________________________________________________\n",
      "conv2d_3 (Conv2D)            (None, 16, 16, 128)       32896     \n",
      "_________________________________________________________________\n",
      "max_pooling2d_3 (MaxPooling2 (None, 8, 8, 128)         0         \n",
      "_________________________________________________________________\n",
      "flatten (Flatten)            (None, 8192)              0         \n",
      "_________________________________________________________________\n",
      "dropout (Dropout)            (None, 8192)              0         \n",
      "_________________________________________________________________\n",
      "dense (Dense)                (None, 512)               4194816   \n",
      "_________________________________________________________________\n",
      "dense_1 (Dense)              (None, 3)                 1539      \n",
      "=================================================================\n",
      "Total params: 4,239,795\n",
      "Trainable params: 4,239,795\n",
      "Non-trainable params: 0\n",
      "_________________________________________________________________\n"
     ]
    }
   ],
   "source": [
    "model=tf.keras.models.Sequential([tf.keras.layers.Conv2D(16,(2,2),activation='relu',input_shape=(150,150,3)),\n",
    "                                 tf.keras.layers.MaxPooling2D(2,2),\n",
    "                                  \n",
    "                                tf.keras.layers.Conv2D(32,(2,2),activation='relu'),\n",
    "                                 tf.keras.layers.MaxPooling2D(2,2),\n",
    "                                  \n",
    "                                  \n",
    "                                 tf.keras.layers.Conv2D(64,(2,2),activation='relu'),\n",
    "                                 tf.keras.layers.MaxPooling2D(2,2),\n",
    "                                  \n",
    "                                  \n",
    "                                 tf.keras.layers.Conv2D(128,(2,2),activation='relu'),\n",
    "                                 tf.keras.layers.MaxPooling2D(2,2),\n",
    "                                  \n",
    "                                  \n",
    "                                  tf.keras.layers.Flatten(),\n",
    "                                  tf.keras.layers.Dropout(0.5),\n",
    "                                  tf.keras.layers.Dense(512,activation='relu'),\n",
    "                                  tf.keras.layers.Dense(3,activation='softmax')\n",
    "                                 ])\n",
    "model.summary()"
   ]
  },
  {
   "cell_type": "code",
   "execution_count": 9,
   "metadata": {},
   "outputs": [],
   "source": [
    "from  tensorflow.keras.optimizers import RMSprop\n",
    "model.compile(loss='categorical_crossentropy',optimizer=RMSprop(lr=0.001),metrics=['accuracy'])"
   ]
  },
  {
   "cell_type": "code",
   "execution_count": 10,
   "metadata": {},
   "outputs": [
    {
     "name": "stdout",
     "output_type": "stream",
     "text": [
      "Epoch 1/3\n",
      "79/79 - 66s - loss: 1.1814 - accuracy: 0.4294 - val_loss: 0.6685 - val_accuracy: 0.7930\n",
      "Epoch 2/3\n",
      "79/79 - 64s - loss: 0.7757 - accuracy: 0.6540 - val_loss: 0.3607 - val_accuracy: 0.9409\n",
      "Epoch 3/3\n",
      "79/79 - 65s - loss: 0.6131 - accuracy: 0.7393 - val_loss: 0.2695 - val_accuracy: 0.9328\n"
     ]
    }
   ],
   "source": [
    "history=model.fit_generator(train_generator,validation_data=validation_generator,epochs=3,verbose=2)\n",
    "model.save('model.h5')"
   ]
  },
  {
   "cell_type": "markdown",
   "metadata": {},
   "source": [
    "# Accuracy\n"
   ]
  },
  {
   "cell_type": "code",
   "execution_count": 11,
   "metadata": {},
   "outputs": [
    {
     "data": {
      "text/plain": [
       "<Figure size 432x288 with 0 Axes>"
      ]
     },
     "execution_count": 11,
     "metadata": {},
     "output_type": "execute_result"
    },
    {
     "data": {
      "image/png": "[encoded data removed]",
      "text/plain": [
       "<Figure size 432x288 with 1 Axes>"
      ]
     },
     "metadata": {
      "needs_background": "light"
     },
     "output_type": "display_data"
    },
    {
     "data": {
      "image/png": "[encoded data removed]",
      "text/plain": [
       "<Figure size 432x288 with 1 Axes>"
      ]
     },
     "metadata": {
      "needs_background": "light"
     },
     "output_type": "display_data"
    },
    {
     "data": {
      "text/plain": [
       "<Figure size 432x288 with 0 Axes>"
      ]
     },
     "metadata": {},
     "output_type": "display_data"
    }
   ],
   "source": [
    "validation_accuracy=history.history['val_accuracy']\n",
    "train_accuracy=history.history['accuracy']\n",
    "\n",
    "validation_loss=history.history['val_loss']\n",
    "train_loss=history.history['loss']\n",
    "\n",
    "epochs=range(len(train_accuracy))\n",
    "\n",
    "plt.plot(epochs,train_accuracy,'r',label='train-accuracy')\n",
    "plt.plot(epochs,validation_accuracy,'g',label='validation-accuracy')\n",
    "plt.title(\"Train and validation accuracy\")\n",
    "plt.legend()\n",
    "plt.figure()\n",
    "\n",
    "plt.plot(epochs,train_loss,'r',label='train-loss')\n",
    "plt.plot(epochs,validation_loss,'g',label='validation-loss')\n",
    "plt.title(\"Train and validation loss\")\n",
    "plt.legend()\n",
    "plt.figure()"
   ]
  },
  {
   "cell_type": "code",
   "execution_count": 12,
   "metadata": {},
   "outputs": [],
   "source": [
    "test_dir='dataset/test'\n",
    "test_image_names=os.listdir(test_dir)"
   ]
  },
  {
   "cell_type": "code",
   "execution_count": 45,
   "metadata": {},
   "outputs": [
    {
     "name": "stdout",
     "output_type": "stream",
     "text": [
      "{'paper': 0, 'rock': 1, 'scissors': 2}\n",
      "Reverse the dictionary\n",
      "{0: 'paper', 1: 'rock', 2: 'scissors'}\n"
     ]
    }
   ],
   "source": [
    "#labels\n",
    "labels = (train_generator.class_indices)\n",
    "print(labels)\n",
    "#Reverse the dictionary\n",
    "print(\"Reverse the dictionary\")\n",
    "labels = dict(map(reversed, labels.items()))\n",
    "print(labels)"
   ]
  },
  {
   "cell_type": "code",
   "execution_count": 54,
   "metadata": {},
   "outputs": [
    {
     "name": "stdout",
     "output_type": "stream",
     "text": [
      "paper-hires1.png   [0]   [[1. 0. 0.]] paper\n",
      "paper-hires2.png   [0]   [[1. 0. 0.]] paper\n",
      "paper1.png   [0]   [[1. 0. 0.]] paper\n",
      "paper2.png   [0]   [[1. 0. 0.]] paper\n",
      "paper3.png   [2]   [[0.01907144 0.         0.9809286 ]] scissors\n",
      "paper4.png   [0]   [[1. 0. 0.]] paper\n",
      "paper5.png   [0]   [[1. 0. 0.]] paper\n",
      "paper6.png   [0]   [[1. 0. 0.]] paper\n",
      "paper7.png   [0]   [[1. 0. 0.]] paper\n",
      "paper8.png   [0]   [[1. 0. 0.]] paper\n",
      "paper9.png   [0]   [[0.99183184 0.         0.00816823]] paper\n",
      "rock-hires1.png   [1]   [[0. 1. 0.]] rock\n",
      "rock-hires2.png   [1]   [[0. 1. 0.]] rock\n",
      "rock1.png   [1]   [[0. 1. 0.]] rock\n",
      "rock2.png   [1]   [[0. 1. 0.]] rock\n",
      "rock3.png   [1]   [[0. 1. 0.]] rock\n",
      "rock4.png   [1]   [[0. 1. 0.]] rock\n",
      "rock5.png   [1]   [[0. 1. 0.]] rock\n",
      "rock6.png   [1]   [[0. 1. 0.]] rock\n",
      "rock7.png   [1]   [[0. 1. 0.]] rock\n",
      "rock8.png   [1]   [[0. 1. 0.]] rock\n",
      "rock9.png   [1]   [[0. 1. 0.]] rock\n",
      "scissors-hires1.png   [2]   [[0. 0. 1.]] scissors\n",
      "scissors-hires2.png   [2]   [[0. 0. 1.]] scissors\n",
      "scissors1.png   [2]   [[0. 0. 1.]] scissors\n",
      "scissors2.png   [2]   [[0. 0. 1.]] scissors\n",
      "scissors3.png   [2]   [[0. 0. 1.]] scissors\n",
      "scissors4.png   [2]   [[0. 0. 1.]] scissors\n",
      "scissors5.png   [2]   [[0. 0. 1.]] scissors\n",
      "scissors6.png   [2]   [[0. 0. 1.]] scissors\n",
      "scissors7.png   [2]   [[0. 0. 1.]] scissors\n",
      "scissors8.png   [2]   [[0. 0. 1.]] scissors\n",
      "scissors9.png   [2]   [[0. 0. 1.]] scissors\n"
     ]
    }
   ],
   "source": [
    "from keras.preprocessing import image\n",
    "\n",
    "\n",
    "for image_name in test_image_names:\n",
    "    location=test_dir+\"/\"+image_name\n",
    "    img = image.load_img(location, target_size=(150,150))\n",
    "    x = image.img_to_array(img)\n",
    "    x = np.expand_dims(x, axis=0)\n",
    "\n",
    "    images = np.vstack([x])\n",
    "    classes = model.predict_classes(images, batch_size=10)\n",
    "    predict=model.predict(images)\n",
    "    print(image_name,\" \",classes,\" \",predict,labels[classes[0]])"
   ]
  },
  {
   "cell_type": "code",
   "execution_count": null,
   "metadata": {},
   "outputs": [],
   "source": []
  }
 ],
 "metadata": {
  "kernelspec": {
   "display_name": "Python 3",
   "language": "python",
   "name": "python3"
  }
 },
 "nbformat": 4,
 "nbformat_minor": 2
}
